{
 "cells": [
  {
   "cell_type": "code",
   "execution_count": null,
   "metadata": {},
   "outputs": [],
   "source": [
    "import numpy as np\n",
    "import math\n",
    "import pandas as pd\n",
    "from statistics import mean, stdev\n",
    "from tqdm.notebook import trange, tqdm\n",
    "import warnings\n",
    "warnings.simplefilter('ignore')\n",
    "\n",
    "import sys\n",
    "sys.path.append(\"../src\")\n",
    "\n",
    "from main import Agent, run\n",
    "# from make_sfm import run_sfm\n",
    "from social_force_model import SocialForceModel\n",
    "from destination_choice_model import DestinationChoiceModel"
   ]
  },
  {
   "cell_type": "code",
   "execution_count": null,
   "metadata": {},
   "outputs": [],
   "source": [
    "from SFM import run_SFM"
   ]
  },
  {
   "cell_type": "code",
   "execution_count": null,
   "metadata": {},
   "outputs": [],
   "source": [
    "data_path = '/Users/juneaist/work/equivariant-PIML/data/GC_dataset/GC_Dataset_toy2.npy'\n",
    "data = np.load(data_path, allow_pickle=True)\n",
    "print(data)"
   ]
  },
  {
   "cell_type": "code",
   "execution_count": null,
   "metadata": {},
   "outputs": [],
   "source": [
    "meta_data, trajectories, destinations, obstacles = data\n",
    "goal_positions = []\n",
    "for u in destinations:\n",
    "    goal_positions.append(u[0][:2])\n",
    "print(goal_positions)\n",
    "\n",
    "mean_v = []\n",
    "for u in trajectories:\n",
    "    first = u[0][:2]\n",
    "    last = u[-1][:2]\n",
    "    tau = u[-1][-1] - u[0][-1]\n",
    "    first, last = np.array(first), np.array(last)\n",
    "    v = (last - first) / tau\n",
    "    v = v.tolist()\n",
    "    mean_v.append(v)\n",
    "print(mean_v)\n",
    "mean_vx = [v[0] for v in mean_v]\n",
    "mean_vy = [v[1] for v in mean_v]\n",
    "print(mean_vx)\n",
    "print(mean_vy)"
   ]
  },
  {
   "cell_type": "code",
   "execution_count": null,
   "metadata": {},
   "outputs": [],
   "source": [
    "params_sfm = {\n",
    "    \"dt\": 1/30,\n",
    "    \"A1\": 2.1,\n",
    "    \"B\": 0.3,\n",
    "    \"A2\": 1,\n",
    "    \"tau\": 0.5,\n",
    "    \"phi\": 100,\n",
    "    \"c\": 0.5\n",
    "}\n",
    "walls = np.array(obstacles)\n",
    "walls_points = walls.tolist()\n",
    "print(obstacles)\n",
    "print(walls)\n",
    "print(walls_points)"
   ]
  },
  {
   "cell_type": "code",
   "execution_count": null,
   "metadata": {},
   "outputs": [],
   "source": [
    "num_steps = max([u[-1][-1] for u in trajectories]) + 1\n",
    "print(num_steps)\n",
    "\n",
    "sfm = SocialForceModel(params_sfm, walls_points)"
   ]
  },
  {
   "cell_type": "code",
   "execution_count": null,
   "metadata": {},
   "outputs": [],
   "source": [
    "#trajectoriesの中身の最初の1stepのx,y座標を取り出す\n",
    "traj = []\n",
    "for i in range(len(trajectories)):\n",
    "    x = trajectories[i][0][0]\n",
    "    y = trajectories[i][0][1]\n",
    "    t = trajectories[i][0][-1]\n",
    "    traj.append([x, y, t])\n",
    "print(traj)"
   ]
  },
  {
   "cell_type": "code",
   "execution_count": null,
   "metadata": {},
   "outputs": [],
   "source": [
    "agents = run_SFM(traj, mean_v, num_steps, sfm, destinations)\n",
    "print(agents)"
   ]
  },
  {
   "cell_type": "code",
   "execution_count": 3,
   "metadata": {},
   "outputs": [],
   "source": [
    "import yaml"
   ]
  },
  {
   "cell_type": "code",
   "execution_count": 7,
   "metadata": {},
   "outputs": [
    {
     "name": "stdout",
     "output_type": "stream",
     "text": [
      "../data/GC_dataset/GC_Dataset_ped1-12685_time2344-2404_interp9_xrange5-25_yrange15-35.npy\n",
      "../data/GC_dataset/GC_Dataset_ped1-12685_time2344-2404_interp9_xrange5-25_yrange15-35_sfm.npy\n"
     ]
    }
   ],
   "source": [
    "# YAMLファイルのパス\n",
    "file_path = '/home/aaf15257iq/work/equivariant-PIML/src/configs/data_configs/data_vis.yaml'\n",
    "\n",
    "# YAMLファイルを読み込む\n",
    "with open(file_path, 'r') as file:\n",
    "    yaml_data = yaml.load(file, Loader=yaml.FullLoader)\n",
    "\n",
    "# YAMLデータをリストとして受け取る\n",
    "data_list = yaml_data\n",
    "data_path = data_list['vis']\n",
    "for i in range(len(data_path)):\n",
    "    print(data_path[i])"
   ]
  },
  {
   "cell_type": "code",
   "execution_count": null,
   "metadata": {},
   "outputs": [],
   "source": []
  }
 ],
 "metadata": {
  "kernelspec": {
   "display_name": ".venv",
   "language": "python",
   "name": "python3"
  },
  "language_info": {
   "codemirror_mode": {
    "name": "ipython",
    "version": 3
   },
   "file_extension": ".py",
   "mimetype": "text/x-python",
   "name": "python",
   "nbconvert_exporter": "python",
   "pygments_lexer": "ipython3",
   "version": "3.9.7"
  },
  "orig_nbformat": 4
 },
 "nbformat": 4,
 "nbformat_minor": 2
}
